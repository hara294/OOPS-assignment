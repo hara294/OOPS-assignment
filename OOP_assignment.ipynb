{
  "nbformat": 4,
  "nbformat_minor": 0,
  "metadata": {
    "colab": {
      "provenance": []
    },
    "kernelspec": {
      "name": "python3",
      "display_name": "Python 3"
    },
    "language_info": {
      "name": "python"
    }
  },
  "cells": [
    {
      "cell_type": "markdown",
      "source": [
        "1.What is Object-Oriented Programming (OOP)\n",
        "\n",
        "->Object-oriented programming (OOP) is a computer programming model that organizes software design around objects, or data, instead of logic and functions.\n",
        "\n",
        "2.What is a class in OOP\n",
        "\n",
        "->A blueprint for creating objects. It defines a set of attributes and methods that the object of the class will have.\n",
        "\n",
        "3.What is an object in OOP\n",
        "\n",
        "->An instance of a class containing specific data and behaviors. it is a real life entity.\n",
        "\n",
        "4.What is the difference between abstraction and encapsulation\n",
        "\n",
        "->Abstraction: Hiding implementation details and showing only the essential features.\n",
        "\n",
        "Encapsulation: Bundling data and methods together in a single unit usually called class.\n",
        "\n",
        "5.What are dunder methods in Python\n",
        "\n",
        "->It refers to the two underscores that surround speciale method in Ptython, also called magic method.\n",
        "\n",
        "6.Explain the concept of inheritance in OOP.\n",
        "\n",
        "->When a class(child) is created from a exiting class(parent)\n",
        "\n",
        "7.What is polymorphism in OOP\n",
        "\n",
        "->Ability to use the same interface for different data types or classes.\n",
        "\n",
        "8.How is encapsulation achieved in Python\n",
        "\n",
        "->Encapsulation is the process of hiding the internal state of an object and requiring all interactions to be performed through an object’s methods.\n",
        "\n",
        "9.What is a constructor in Python\n",
        "\n",
        "->A method to initialize object attributes when an object is created(__init__).\n",
        "\n",
        "10.What are class and static methods in Python\n",
        "\n",
        "->Class methods (@classmethod): Operate on the class rather than instances.\n",
        "\n",
        "Static methods (@staticmethod): Behave like regular functions but belong to a class.\n",
        "\n",
        "11.What is method overloading in Python\n",
        "\n",
        "->Defining multiple methods with the same name (not directly supported in Python).  \n",
        "\n",
        "12.What is method overriding in OOP\n",
        "\n",
        "-> A child class redefines a method from the parent class.\n",
        "\n",
        "13.What is a property decorator in Python\n",
        "\n",
        "->Used to define methods that can be accessed like attributes.\n",
        "\n",
        "14.Why is polymorphism important in OOP\n",
        "\n",
        "-> Simplifies code by allowing the same interface to handle different types.\n",
        "\n",
        "15.What is an abstract class in Python\n",
        "\n",
        "->A class that cannot be instantiated and often includes abstract methods\n",
        "\n",
        "16.What are the advantages of OOP\n",
        "\n",
        "->Advantages of OOP are modularity,reusability, scalability, data security.\n",
        "\n",
        "17.What is the difference between a class variable and an instance variable\n",
        "\n",
        "->Class Variable: Shared among all instances of a class. Defined outside methods, within the class body.\n",
        "\n",
        "Instance Variable: Specific to each instance of a class. Defined inside methods like __init__ using self.\n",
        "\n",
        "18.What is multiple inheritance in Python\n",
        "\n",
        "->When a class inherits from more than one parent class. Python resolves conflicts using the Method Resolution Order (MRO).\n",
        "\n",
        "19.Explain the purpose of __str__ and __repr__ methods in Python\n",
        "\n",
        "->__str__: Provides a readable, user-friendly string representation of an object.\n",
        "\n",
        "__repr__: Provides an unambiguous string representation for debugging.\n",
        "\n",
        "20.What is the significance of the super()function in Python\n",
        "\n",
        "->the significance of the super()function in Python\n",
        "-Used to call a method from the parent class.\n",
        "\n",
        "-Ensures proper initialization and behavior in inheritance.\n",
        "\n",
        "21.What is the significance of the __del__ method in Python\n",
        "\n",
        "->The significance of the __del__ method in Python are\n",
        "-Called when an object is about to be destroyed (garbage collected).\n",
        "\n",
        "-Used to clean up resources like closing files or network connections.\n",
        "\n",
        "22.What is the difference between @staticmethod and @classmethod in Python1\n",
        "\n",
        "->@staticmethod: Does not take a cls or self parameter. Behaves like a regular function within the class context.\n",
        "\n",
        "@classmethod: Takes cls as its first parameter, and can modify the class state.\n",
        "\n",
        "23.How does polymorphism work in Python with inheritance1\n",
        "\n",
        "->Allows objects of different classes to be treated the same way, as long as they share a common interface.\n",
        "\n",
        "24.What is method chaining in Python OOP\n",
        "\n",
        "->Calling multiple methods on the same object in a single statement.\n",
        "\n",
        "25.What is the purpose of the __call__ method in Python\n",
        "\n",
        "->Makes an object behave like a function.\n",
        "Allows the object to be called as if it were a method.\n",
        "\n"
      ],
      "metadata": {
        "id": "-SJi0fhWfsad"
      }
    },
    {
      "cell_type": "code",
      "execution_count": 1,
      "metadata": {
        "id": "IfKdh4SveAye",
        "colab": {
          "base_uri": "https://localhost:8080/"
        },
        "outputId": "07333c98-3116-40ab-b18a-b2f3f79a6665"
      },
      "outputs": [
        {
          "output_type": "stream",
          "name": "stdout",
          "text": [
            "Bark!\n"
          ]
        }
      ],
      "source": [
        "# 1. Create a parent class Animal with a method speak() that prints a generic message. Create a child class Dog that overrides the speak() method to print \"Bark!\n",
        "class Animal:\n",
        "  def speak(self):\n",
        "    print(\"animal sound\")\n",
        "\n",
        "class Dog(Animal):\n",
        "  def speak(self):\n",
        "    print(\"Bark!\")\n",
        "\n",
        "obj = Dog()\n",
        "obj.speak()"
      ]
    },
    {
      "cell_type": "code",
      "source": [
        "#2.Write a program to create an abstract class Shape with a method area(). Derive classes Circle and Rectangle from it and implement the area() method in both\n",
        "from abc import ABC, abstractmethod\n",
        "\n",
        "class Shape(ABC):\n",
        "    @abstractmethod\n",
        "    def area(self):\n",
        "        pass\n",
        "\n",
        "class Circle(Shape):\n",
        "  def __init__(self,radius):\n",
        "    self.radius = radius\n",
        "\n",
        "  def area(self):\n",
        "    return 3.14 * self.radius * self.radius\n",
        "\n",
        "class Rectangle(Shape):\n",
        "  def __init__(self,length,width):\n",
        "    self.length = length\n",
        "    self.width = width\n",
        "\n",
        "  def area(self):\n",
        "    return self.length * self.width\n",
        "\n",
        "circle = Circle(5)\n",
        "print(\"The area of the circle is:\",+circle.area())\n",
        "\n",
        "rectangle = Rectangle(4,6)\n",
        "print(\"The area of the rectangle is :\",+rectangle.area())"
      ],
      "metadata": {
        "id": "P7d7uCOifTB1",
        "colab": {
          "base_uri": "https://localhost:8080/"
        },
        "outputId": "dfd6427d-0e0a-4511-8ef6-838ce60cb2ba"
      },
      "execution_count": 28,
      "outputs": [
        {
          "output_type": "stream",
          "name": "stdout",
          "text": [
            "The area of the circle is: 78.5\n",
            "The area of the rectangle is : 24\n"
          ]
        }
      ]
    },
    {
      "cell_type": "code",
      "source": [
        "#3. Implement a multi-level inheritance scenario where a class Vehicle has an attribute type. Derive a class Car and further derive a class ElectricCar that adds a battery attribute\n",
        "\n",
        "class Vechile:\n",
        "  def __init__(self, type):\n",
        "    self.type = type\n",
        "\n",
        "  def display(self):\n",
        "    print(self.type)\n",
        "\n",
        "class Car(Vechile):\n",
        "  def __init__(self,type,model):\n",
        "    Vechile.__init__(self,type)\n",
        "    self.model = model\n",
        "\n",
        "  def display(self):\n",
        "    print(self.type,self.model)\n",
        "\n",
        "class Electric_Car(Car):\n",
        "  def __init__(self,type,model,battery):\n",
        "    Car.__init__(self,type,model)\n",
        "    self.battery = battery\n",
        "\n",
        "  def display(self):\n",
        "    print(self.type,self.model,self.battery)\n",
        "\n",
        "obj = Electric_Car(\"BMW\",\"s+\",\"45KWH\")\n",
        "obj.display()"
      ],
      "metadata": {
        "id": "SkCBbzrEfS5l",
        "colab": {
          "base_uri": "https://localhost:8080/"
        },
        "outputId": "1d60bfd3-dff7-4f87-cac1-73a06accb0e9"
      },
      "execution_count": 13,
      "outputs": [
        {
          "output_type": "stream",
          "name": "stdout",
          "text": [
            "BMW s+ 45KWH\n"
          ]
        }
      ]
    },
    {
      "cell_type": "code",
      "source": [
        "#4.Implement a multi-level inheritance scenario where a class Vehicle has an attribute type. Derive a class Car and further derive a class ElectricCar that adds a battery attribute\n",
        "class Vechile:\n",
        "  def __init__(self, type):\n",
        "    self.type = type\n",
        "\n",
        "  def display(self):\n",
        "    print(self.type)\n",
        "\n",
        "class Car(Vechile):\n",
        "  def __init__(self,type,model):\n",
        "    Vechile.__init__(self,type)\n",
        "    self.model = model\n",
        "\n",
        "  def display(self):\n",
        "    print(self.type,self.model)\n",
        "\n",
        "class Electric_Car(Car):\n",
        "  def __init__(self,type,model,battery):\n",
        "    Car.__init__(self,type,model)\n",
        "    self.battery = battery\n",
        "\n",
        "  def display(self):\n",
        "    print(self.type,self.model,self.battery)\n",
        "\n",
        "obj = Electric_Car(\"BMW\",\"s+\",\"45KWH\")\n",
        "obj.display()"
      ],
      "metadata": {
        "id": "I7JenSOwfS1h",
        "colab": {
          "base_uri": "https://localhost:8080/"
        },
        "outputId": "95766772-f479-464b-f050-70964d5254bd"
      },
      "execution_count": 14,
      "outputs": [
        {
          "output_type": "stream",
          "name": "stdout",
          "text": [
            "BMW s+ 45KWH\n"
          ]
        }
      ]
    },
    {
      "cell_type": "code",
      "source": [
        "#5. Write a program to demonstrate encapsulation by creating a class BankAccount with private attributes balance and methods to deposit, withdraw, and check balance\n",
        "class Bankacct:\n",
        "  def __init__(self,balance):\n",
        "    self.__balance = balance\n",
        "\n",
        "  def deposit(self,amount):\n",
        "    self.__balance += amount\n",
        "    print(\"The total balance:\",self.__balance)\n",
        "\n",
        "  def  withdraw(self,amount):\n",
        "    if(self.__balance >= amount):\n",
        "      self.__balance -= amount\n",
        "      print(\"Left amount:\",self.__balance)\n",
        "    else:\n",
        "      print(\"Insufficient balance\")\n",
        "\n",
        "  def check_balance(self):\n",
        "    print(\"The total balance:\",self.__balance)\n",
        "\n",
        "obj = Bankacct(1000)\n",
        "obj.deposit(500)\n",
        "obj.withdraw(200)\n",
        "obj.check_balance()"
      ],
      "metadata": {
        "id": "PacDiOMrfSpB",
        "colab": {
          "base_uri": "https://localhost:8080/"
        },
        "outputId": "88207b7c-b6c3-442b-d218-7a0567e7dcae"
      },
      "execution_count": 17,
      "outputs": [
        {
          "output_type": "stream",
          "name": "stdout",
          "text": [
            "The total balance: 1500\n",
            "Left amount: 1300\n",
            "The total balance: 1300\n"
          ]
        }
      ]
    },
    {
      "cell_type": "code",
      "source": [
        "#6. Demonstrate runtime polymorphism using a method play() in a base class Instrument. Derive classes Guitar and Piano that implement their own version of play()\n",
        "class Instrument:\n",
        "  def play(self):\n",
        "    pass\n",
        "class Guitar(Instrument):\n",
        "  def play(self):\n",
        "    print(\"guitar is playing\")\n",
        "class Piano(Instrument):\n",
        "  def play(self):\n",
        "    print(\"piano is playing\")\n",
        "\n",
        "obj = Guitar()\n",
        "obj.play()\n",
        "obj = Piano()\n",
        "obj.play()"
      ],
      "metadata": {
        "id": "DWHnrb6TfSmL",
        "colab": {
          "base_uri": "https://localhost:8080/"
        },
        "outputId": "2ceacf51-fe45-405d-fe7a-415a749d61fe"
      },
      "execution_count": 18,
      "outputs": [
        {
          "output_type": "stream",
          "name": "stdout",
          "text": [
            "guitar is playing\n",
            "piano is playing\n"
          ]
        }
      ]
    },
    {
      "cell_type": "code",
      "source": [
        "#7. Create a class MathOperations with a class method add_numbers() to add two numbers and a static method subtract_numbers() to subtract two numbers\n",
        "class MathOperations:\n",
        "  @classmethod\n",
        "  def add_numbers(cls,a,b):\n",
        "    return a+b\n",
        "\n",
        "  @staticmethod\n",
        "  def subtract_numbers(a,b):\n",
        "    return a-b\n",
        "\n",
        "obj = MathOperations()\n",
        "print(obj.add_numbers(4,5))\n",
        "print(obj.subtract_numbers(4,5))"
      ],
      "metadata": {
        "id": "nmXs5TOCfSjS",
        "colab": {
          "base_uri": "https://localhost:8080/"
        },
        "outputId": "4e8fca3f-6805-482b-a064-43dea90c5ac8"
      },
      "execution_count": 19,
      "outputs": [
        {
          "output_type": "stream",
          "name": "stdout",
          "text": [
            "9\n",
            "-1\n"
          ]
        }
      ]
    },
    {
      "cell_type": "code",
      "source": [
        "#8.Implement a class Person with a class method to count the total number of persons created\n",
        "class person:\n",
        "  count = 0\n",
        "  def __init__(self,name):\n",
        "    self.name = name\n",
        "    person.count += 1\n",
        "\n",
        "obj = person(\"abc\")\n",
        "obj = person(\"xyz\")\n",
        "print(person.count)"
      ],
      "metadata": {
        "id": "KPNCQBYyfSgn",
        "colab": {
          "base_uri": "https://localhost:8080/"
        },
        "outputId": "a8b93dab-11e2-4f60-8dc5-f814f68b9929"
      },
      "execution_count": 21,
      "outputs": [
        {
          "output_type": "stream",
          "name": "stdout",
          "text": [
            "2\n"
          ]
        }
      ]
    },
    {
      "cell_type": "code",
      "source": [
        "#9.Write a class Fraction with attributes numerator and denominator. Override the str method to display the fraction as \"numerator/denominator\".\n",
        "class Fraction:\n",
        "  def __init__(self,numerator,denominator):\n",
        "    self.numerator = numerator\n",
        "    self.denominator = denominator\n",
        "\n",
        "  def __str__(self):\n",
        "    print(self.numerator,\"/\",self.denominator)\n",
        "\n",
        "obj = Fraction(4,5)\n",
        "obj.__str__()"
      ],
      "metadata": {
        "colab": {
          "base_uri": "https://localhost:8080/"
        },
        "id": "iVe4b9QJCra1",
        "outputId": "9c08d80a-3fd8-4f48-a497-8a359a2e7018"
      },
      "execution_count": 26,
      "outputs": [
        {
          "output_type": "stream",
          "name": "stdout",
          "text": [
            "4 / 5\n"
          ]
        }
      ]
    },
    {
      "cell_type": "code",
      "source": [
        "#10. Demonstrate operator overloading by creating a class Vector and overriding the add method to add two vectors\n",
        "class Vector:\n",
        "  def __init__(self,x,y):\n",
        "    self.x = x\n",
        "    self.y = y\n",
        "\n",
        "  def __add__(self,other):\n",
        "    return Vector(self.x + other.x,self.y + other.y)\n",
        "\n",
        "obj = Vector(1,2)\n",
        "obj1 = Vector(3,4)\n",
        "obj2 = obj + obj1\n",
        "print(obj2.x,obj2.y)"
      ],
      "metadata": {
        "id": "dPLFdVz8fSeV",
        "colab": {
          "base_uri": "https://localhost:8080/"
        },
        "outputId": "b32abd56-8b67-40f7-ebcf-b4e55f6994fe"
      },
      "execution_count": 22,
      "outputs": [
        {
          "output_type": "stream",
          "name": "stdout",
          "text": [
            "4 6\n"
          ]
        }
      ]
    },
    {
      "cell_type": "code",
      "source": [
        "#11.Create a class Person with attributes name and age. Add a method greet() that prints \"Hello, my name is {name} and I am {age} years old\n",
        "class Person:\n",
        "  def __init__(self,name,age):\n",
        "    self.name = name\n",
        "    self.age = age\n",
        "\n",
        "  def greet(self):\n",
        "    print(\"Hello, my name is\",self.name,\"and I am\",self.age,\"years old\")\n",
        "\n",
        "obj = Person(\"Hara\",20)\n",
        "obj.greet()"
      ],
      "metadata": {
        "id": "FMG7S0kmfSZQ",
        "colab": {
          "base_uri": "https://localhost:8080/"
        },
        "outputId": "d3148f54-819c-4077-998a-f3894f88496f"
      },
      "execution_count": 48,
      "outputs": [
        {
          "output_type": "stream",
          "name": "stdout",
          "text": [
            "Hello, my name is Hara and I am 20 years old\n"
          ]
        }
      ]
    },
    {
      "cell_type": "code",
      "source": [
        "#12. Implement a class Student with attributes name and grades. Create a method average_grade() to compute the average of the grades\n",
        "class Student:\n",
        "  def __init__(self,name,grades):\n",
        "    self.name = name\n",
        "    self.grades = grades\n",
        "\n",
        "  def average_grade(self):\n",
        "    return sum(self.grades)/len(self.grades)\n",
        "\n",
        "obj = Student(\"Hara\",[90,86,83,84,95])\n",
        "print(obj.average_grade())"
      ],
      "metadata": {
        "id": "Z2WB2l1xfSWu",
        "colab": {
          "base_uri": "https://localhost:8080/"
        },
        "outputId": "f7de30f9-dda6-46b3-e44e-ce64bc407ed5"
      },
      "execution_count": 27,
      "outputs": [
        {
          "output_type": "stream",
          "name": "stdout",
          "text": [
            "87.6\n"
          ]
        }
      ]
    },
    {
      "cell_type": "code",
      "source": [
        "#13.Create a class Rectangle with methods set_dimensions() to set the dimensions and area() to calculate the area.\n",
        "class Rectangle:\n",
        "  def __init__(self,length,width):\n",
        "    self.length = length\n",
        "    self.width = width\n",
        "\n",
        "  def set_dimensions(self,length,width):\n",
        "    self.length = length\n",
        "    self.width = width\n",
        "\n",
        "  def area(self):\n",
        "    return self.length * self.width\n",
        "\n",
        "obj = Rectangle(4,5)\n",
        "obj.set_dimensions(5,6)\n",
        "print(obj.area())"
      ],
      "metadata": {
        "id": "8dhfSvpwfSUU",
        "colab": {
          "base_uri": "https://localhost:8080/"
        },
        "outputId": "afba52ce-07a2-4fd6-b123-1c530085e5d2"
      },
      "execution_count": 31,
      "outputs": [
        {
          "output_type": "stream",
          "name": "stdout",
          "text": [
            "30\n"
          ]
        }
      ]
    },
    {
      "cell_type": "code",
      "source": [
        "#14. Create a class Employee with a method calculate_salary() that computes the salary based on hours worked and hourly rate. Create a derived class Manager that adds a bonus to the salary\n",
        "class Employee:\n",
        "  def __init__(self,name,hours_worked,hourly_rate):\n",
        "    self.name = name\n",
        "    self.hours_worked = hours_worked\n",
        "    self.hourly_rate = hourly_rate\n",
        "\n",
        "  def salary(self):\n",
        "    return self.hours_worked * self.hourly_rate\n",
        "\n",
        "class Manager(Employee):\n",
        "  def __init__(self,name,hours_worked,hourly_rate,bonus):\n",
        "    Employee.__init__(self,name,hours_worked,hourly_rate)\n",
        "    self.bonus = bonus\n",
        "\n",
        "  def calculate_salary(self):\n",
        "    print(\"the bonus:\", self.bonus)\n",
        "    return self.salary() + self.bonus\n",
        "\n",
        "obj = Manager(\"abc\",40,50,1000)\n",
        "print(obj.salary())\n",
        "print(obj.calculate_salary())"
      ],
      "metadata": {
        "id": "-yv83gcrfSSW",
        "colab": {
          "base_uri": "https://localhost:8080/"
        },
        "outputId": "b560675a-507a-48e9-80ae-031c2a6fbc61"
      },
      "execution_count": 36,
      "outputs": [
        {
          "output_type": "stream",
          "name": "stdout",
          "text": [
            "2000\n",
            "the bonus: 1000\n",
            "3000\n"
          ]
        }
      ]
    },
    {
      "cell_type": "code",
      "source": [
        "#15. Create a class Product with attributes name, price, and quantity. Implement a method total_price() that calculates the total price of the product.\n",
        "class Product:\n",
        "  def __init__(self,name,price,quantity):\n",
        "    self.name = name\n",
        "    self.price = price\n",
        "    self.quantity = quantity\n",
        "\n",
        "  def total_price(self):\n",
        "    return self.price * self.quantity\n",
        "\n",
        "obj = Product(\"PW_Skills\", 16000, 2)\n",
        "obj.total_price()"
      ],
      "metadata": {
        "colab": {
          "base_uri": "https://localhost:8080/"
        },
        "id": "PMHlKUbQHaDQ",
        "outputId": "6e8c7109-d903-4488-c6b0-af7b39c17f54"
      },
      "execution_count": 38,
      "outputs": [
        {
          "output_type": "execute_result",
          "data": {
            "text/plain": [
              "32000"
            ]
          },
          "metadata": {},
          "execution_count": 38
        }
      ]
    },
    {
      "cell_type": "code",
      "source": [
        "#16. Create a class Animal with an abstract method sound(). Create two derived classes Cow and Sheep that implement the sound() method\n",
        "class Animal:\n",
        "  def sound(self):\n",
        "    pass\n",
        "\n",
        "class Cow(Animal):\n",
        "  def sound(self):\n",
        "    print(\"Moo\")\n",
        "\n",
        "class Sheep(Animal):\n",
        "  def sound(self):\n",
        "    print(\"Baa\")\n",
        "\n",
        "obj = Cow()\n",
        "obj.sound()"
      ],
      "metadata": {
        "id": "UJgkkGTYfSN9",
        "colab": {
          "base_uri": "https://localhost:8080/"
        },
        "outputId": "4df28e6c-549b-4cea-a9e2-f2aa0d9d019b"
      },
      "execution_count": 42,
      "outputs": [
        {
          "output_type": "stream",
          "name": "stdout",
          "text": [
            "Moo\n"
          ]
        }
      ]
    },
    {
      "cell_type": "code",
      "source": [
        "#17. Create a class Book with attributes title, author, and year_published. Add a method get_book_info() that returns a formatted string with the book's details\n",
        "class Book:\n",
        "  def __init__(self,title,author,year_published):\n",
        "    self.title = title\n",
        "    self.author = author\n",
        "    self.year_published = year_published\n",
        "\n",
        "  def get_book_info(self):\n",
        "    print(self.title, self.author, self.year_published)\n",
        "\n",
        "obj = Book(\"Python\",\"abc\",2023)\n",
        "obj.get_book_info()"
      ],
      "metadata": {
        "colab": {
          "base_uri": "https://localhost:8080/"
        },
        "id": "Nss13KBQJOp1",
        "outputId": "d64d7598-f5fd-41f6-f63e-473f20625e28"
      },
      "execution_count": 44,
      "outputs": [
        {
          "output_type": "stream",
          "name": "stdout",
          "text": [
            "Python abc 2023\n"
          ]
        }
      ]
    },
    {
      "cell_type": "code",
      "source": [
        "#18.Create a class House with attributes address and price. Create a derived class Mansion that adds an attribute number_of_rooms.\n",
        "class House:\n",
        "  def __init__(self,address,price):\n",
        "    self.address = address\n",
        "    self.price = price\n",
        "\n",
        "class Mansion(House):\n",
        "  def __init__(self, address, price, rooms):\n",
        "    House.__init__(self, address, price)\n",
        "    self.rooms = rooms\n",
        "\n",
        "  def attributes(self):\n",
        "    print(self.address, self.price, self.rooms)\n",
        "\n",
        "obj = Mansion(\"abc\",10000,4)\n",
        "obj.attributes()"
      ],
      "metadata": {
        "colab": {
          "base_uri": "https://localhost:8080/"
        },
        "id": "FlZvonCRBqF3",
        "outputId": "f12a9cea-24d2-48d5-9c77-3c21af97265b"
      },
      "execution_count": 46,
      "outputs": [
        {
          "output_type": "stream",
          "name": "stdout",
          "text": [
            "abc 10000 4\n"
          ]
        }
      ]
    }
  ]
}